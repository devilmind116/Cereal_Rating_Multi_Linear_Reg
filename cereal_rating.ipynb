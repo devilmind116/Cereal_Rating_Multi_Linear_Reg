{
  "nbformat": 4,
  "nbformat_minor": 0,
  "metadata": {
    "colab": {
      "name": "cereal rating",
      "provenance": [],
      "collapsed_sections": []
    },
    "kernelspec": {
      "name": "python3",
      "display_name": "Python 3"
    }
  },
  "cells": [
    {
      "cell_type": "code",
      "metadata": {
        "id": "zaZ5z3KpS2QZ"
      },
      "source": [
        "import pandas as pd\n",
        "import numpy as np\n",
        "import io"
      ],
      "execution_count": 2,
      "outputs": []
    },
    {
      "cell_type": "code",
      "metadata": {
        "id": "ivXgV8JTTf2V",
        "outputId": "1cd4cd08-237d-4a90-8611-3462736bb110",
        "colab": {
          "resources": {
            "http://localhost:8080/nbextensions/google.colab/files.js": {
              "data": "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",
              "ok": true,
              "headers": [
                [
                  "content-type",
                  "application/javascript"
                ]
              ],
              "status": 200,
              "status_text": ""
            }
          },
          "base_uri": "https://localhost:8080/",
          "height": 73
        }
      },
      "source": [
        "from google.colab import files\n",
        "uploaded = files.upload()\n",
        "df=pd.read_csv(io.BytesIO(uploaded['cereal.csv']))"
      ],
      "execution_count": 3,
      "outputs": [
        {
          "output_type": "display_data",
          "data": {
            "text/html": [
              "\n",
              "     <input type=\"file\" id=\"files-bfb2b285-c5ba-49eb-ac96-d980743eb7a4\" name=\"files[]\" multiple disabled\n",
              "        style=\"border:none\" />\n",
              "     <output id=\"result-bfb2b285-c5ba-49eb-ac96-d980743eb7a4\">\n",
              "      Upload widget is only available when the cell has been executed in the\n",
              "      current browser session. Please rerun this cell to enable.\n",
              "      </output>\n",
              "      <script src=\"/nbextensions/google.colab/files.js\"></script> "
            ],
            "text/plain": [
              "<IPython.core.display.HTML object>"
            ]
          },
          "metadata": {
            "tags": []
          }
        },
        {
          "output_type": "stream",
          "text": [
            "Saving cereal.csv to cereal.csv\n"
          ],
          "name": "stdout"
        }
      ]
    },
    {
      "cell_type": "code",
      "metadata": {
        "id": "_v-vi8zjUTAu",
        "outputId": "d3da13ad-9d56-478d-b2e9-90f265ecf31b",
        "colab": {
          "base_uri": "https://localhost:8080/",
          "height": 195
        }
      },
      "source": [
        "df.head()"
      ],
      "execution_count": 4,
      "outputs": [
        {
          "output_type": "execute_result",
          "data": {
            "text/html": [
              "<div>\n",
              "<style scoped>\n",
              "    .dataframe tbody tr th:only-of-type {\n",
              "        vertical-align: middle;\n",
              "    }\n",
              "\n",
              "    .dataframe tbody tr th {\n",
              "        vertical-align: top;\n",
              "    }\n",
              "\n",
              "    .dataframe thead th {\n",
              "        text-align: right;\n",
              "    }\n",
              "</style>\n",
              "<table border=\"1\" class=\"dataframe\">\n",
              "  <thead>\n",
              "    <tr style=\"text-align: right;\">\n",
              "      <th></th>\n",
              "      <th>name</th>\n",
              "      <th>mfr</th>\n",
              "      <th>type</th>\n",
              "      <th>calories</th>\n",
              "      <th>protein</th>\n",
              "      <th>fat</th>\n",
              "      <th>sodium</th>\n",
              "      <th>fiber</th>\n",
              "      <th>carbo</th>\n",
              "      <th>sugars</th>\n",
              "      <th>potass</th>\n",
              "      <th>vitamins</th>\n",
              "      <th>shelf</th>\n",
              "      <th>weight</th>\n",
              "      <th>cups</th>\n",
              "      <th>rating</th>\n",
              "    </tr>\n",
              "  </thead>\n",
              "  <tbody>\n",
              "    <tr>\n",
              "      <th>0</th>\n",
              "      <td>100% Bran</td>\n",
              "      <td>N</td>\n",
              "      <td>C</td>\n",
              "      <td>70</td>\n",
              "      <td>4</td>\n",
              "      <td>1</td>\n",
              "      <td>130</td>\n",
              "      <td>10.0</td>\n",
              "      <td>5.0</td>\n",
              "      <td>6</td>\n",
              "      <td>280</td>\n",
              "      <td>25</td>\n",
              "      <td>3</td>\n",
              "      <td>1.0</td>\n",
              "      <td>0.33</td>\n",
              "      <td>68.402973</td>\n",
              "    </tr>\n",
              "    <tr>\n",
              "      <th>1</th>\n",
              "      <td>100% Natural Bran</td>\n",
              "      <td>Q</td>\n",
              "      <td>C</td>\n",
              "      <td>120</td>\n",
              "      <td>3</td>\n",
              "      <td>5</td>\n",
              "      <td>15</td>\n",
              "      <td>2.0</td>\n",
              "      <td>8.0</td>\n",
              "      <td>8</td>\n",
              "      <td>135</td>\n",
              "      <td>0</td>\n",
              "      <td>3</td>\n",
              "      <td>1.0</td>\n",
              "      <td>1.00</td>\n",
              "      <td>33.983679</td>\n",
              "    </tr>\n",
              "    <tr>\n",
              "      <th>2</th>\n",
              "      <td>All-Bran</td>\n",
              "      <td>K</td>\n",
              "      <td>C</td>\n",
              "      <td>70</td>\n",
              "      <td>4</td>\n",
              "      <td>1</td>\n",
              "      <td>260</td>\n",
              "      <td>9.0</td>\n",
              "      <td>7.0</td>\n",
              "      <td>5</td>\n",
              "      <td>320</td>\n",
              "      <td>25</td>\n",
              "      <td>3</td>\n",
              "      <td>1.0</td>\n",
              "      <td>0.33</td>\n",
              "      <td>59.425505</td>\n",
              "    </tr>\n",
              "    <tr>\n",
              "      <th>3</th>\n",
              "      <td>All-Bran with Extra Fiber</td>\n",
              "      <td>K</td>\n",
              "      <td>C</td>\n",
              "      <td>50</td>\n",
              "      <td>4</td>\n",
              "      <td>0</td>\n",
              "      <td>140</td>\n",
              "      <td>14.0</td>\n",
              "      <td>8.0</td>\n",
              "      <td>0</td>\n",
              "      <td>330</td>\n",
              "      <td>25</td>\n",
              "      <td>3</td>\n",
              "      <td>1.0</td>\n",
              "      <td>0.50</td>\n",
              "      <td>93.704912</td>\n",
              "    </tr>\n",
              "    <tr>\n",
              "      <th>4</th>\n",
              "      <td>Almond Delight</td>\n",
              "      <td>R</td>\n",
              "      <td>C</td>\n",
              "      <td>110</td>\n",
              "      <td>2</td>\n",
              "      <td>2</td>\n",
              "      <td>200</td>\n",
              "      <td>1.0</td>\n",
              "      <td>14.0</td>\n",
              "      <td>8</td>\n",
              "      <td>-1</td>\n",
              "      <td>25</td>\n",
              "      <td>3</td>\n",
              "      <td>1.0</td>\n",
              "      <td>0.75</td>\n",
              "      <td>34.384843</td>\n",
              "    </tr>\n",
              "  </tbody>\n",
              "</table>\n",
              "</div>"
            ],
            "text/plain": [
              "                        name mfr type  calories  ...  shelf  weight  cups     rating\n",
              "0                  100% Bran   N    C        70  ...      3     1.0  0.33  68.402973\n",
              "1          100% Natural Bran   Q    C       120  ...      3     1.0  1.00  33.983679\n",
              "2                   All-Bran   K    C        70  ...      3     1.0  0.33  59.425505\n",
              "3  All-Bran with Extra Fiber   K    C        50  ...      3     1.0  0.50  93.704912\n",
              "4             Almond Delight   R    C       110  ...      3     1.0  0.75  34.384843\n",
              "\n",
              "[5 rows x 16 columns]"
            ]
          },
          "metadata": {
            "tags": []
          },
          "execution_count": 4
        }
      ]
    },
    {
      "cell_type": "code",
      "metadata": {
        "id": "czAxphqhVMaP",
        "outputId": "756a2cd2-7495-45e3-f9ec-efc0952e673c",
        "colab": {
          "base_uri": "https://localhost:8080/",
          "height": 195
        }
      },
      "source": [
        "df.tail()"
      ],
      "execution_count": 5,
      "outputs": [
        {
          "output_type": "execute_result",
          "data": {
            "text/html": [
              "<div>\n",
              "<style scoped>\n",
              "    .dataframe tbody tr th:only-of-type {\n",
              "        vertical-align: middle;\n",
              "    }\n",
              "\n",
              "    .dataframe tbody tr th {\n",
              "        vertical-align: top;\n",
              "    }\n",
              "\n",
              "    .dataframe thead th {\n",
              "        text-align: right;\n",
              "    }\n",
              "</style>\n",
              "<table border=\"1\" class=\"dataframe\">\n",
              "  <thead>\n",
              "    <tr style=\"text-align: right;\">\n",
              "      <th></th>\n",
              "      <th>name</th>\n",
              "      <th>mfr</th>\n",
              "      <th>type</th>\n",
              "      <th>calories</th>\n",
              "      <th>protein</th>\n",
              "      <th>fat</th>\n",
              "      <th>sodium</th>\n",
              "      <th>fiber</th>\n",
              "      <th>carbo</th>\n",
              "      <th>sugars</th>\n",
              "      <th>potass</th>\n",
              "      <th>vitamins</th>\n",
              "      <th>shelf</th>\n",
              "      <th>weight</th>\n",
              "      <th>cups</th>\n",
              "      <th>rating</th>\n",
              "    </tr>\n",
              "  </thead>\n",
              "  <tbody>\n",
              "    <tr>\n",
              "      <th>72</th>\n",
              "      <td>Triples</td>\n",
              "      <td>G</td>\n",
              "      <td>C</td>\n",
              "      <td>110</td>\n",
              "      <td>2</td>\n",
              "      <td>1</td>\n",
              "      <td>250</td>\n",
              "      <td>0.0</td>\n",
              "      <td>21.0</td>\n",
              "      <td>3</td>\n",
              "      <td>60</td>\n",
              "      <td>25</td>\n",
              "      <td>3</td>\n",
              "      <td>1.0</td>\n",
              "      <td>0.75</td>\n",
              "      <td>39.106174</td>\n",
              "    </tr>\n",
              "    <tr>\n",
              "      <th>73</th>\n",
              "      <td>Trix</td>\n",
              "      <td>G</td>\n",
              "      <td>C</td>\n",
              "      <td>110</td>\n",
              "      <td>1</td>\n",
              "      <td>1</td>\n",
              "      <td>140</td>\n",
              "      <td>0.0</td>\n",
              "      <td>13.0</td>\n",
              "      <td>12</td>\n",
              "      <td>25</td>\n",
              "      <td>25</td>\n",
              "      <td>2</td>\n",
              "      <td>1.0</td>\n",
              "      <td>1.00</td>\n",
              "      <td>27.753301</td>\n",
              "    </tr>\n",
              "    <tr>\n",
              "      <th>74</th>\n",
              "      <td>Wheat Chex</td>\n",
              "      <td>R</td>\n",
              "      <td>C</td>\n",
              "      <td>100</td>\n",
              "      <td>3</td>\n",
              "      <td>1</td>\n",
              "      <td>230</td>\n",
              "      <td>3.0</td>\n",
              "      <td>17.0</td>\n",
              "      <td>3</td>\n",
              "      <td>115</td>\n",
              "      <td>25</td>\n",
              "      <td>1</td>\n",
              "      <td>1.0</td>\n",
              "      <td>0.67</td>\n",
              "      <td>49.787445</td>\n",
              "    </tr>\n",
              "    <tr>\n",
              "      <th>75</th>\n",
              "      <td>Wheaties</td>\n",
              "      <td>G</td>\n",
              "      <td>C</td>\n",
              "      <td>100</td>\n",
              "      <td>3</td>\n",
              "      <td>1</td>\n",
              "      <td>200</td>\n",
              "      <td>3.0</td>\n",
              "      <td>17.0</td>\n",
              "      <td>3</td>\n",
              "      <td>110</td>\n",
              "      <td>25</td>\n",
              "      <td>1</td>\n",
              "      <td>1.0</td>\n",
              "      <td>1.00</td>\n",
              "      <td>51.592193</td>\n",
              "    </tr>\n",
              "    <tr>\n",
              "      <th>76</th>\n",
              "      <td>Wheaties Honey Gold</td>\n",
              "      <td>G</td>\n",
              "      <td>C</td>\n",
              "      <td>110</td>\n",
              "      <td>2</td>\n",
              "      <td>1</td>\n",
              "      <td>200</td>\n",
              "      <td>1.0</td>\n",
              "      <td>16.0</td>\n",
              "      <td>8</td>\n",
              "      <td>60</td>\n",
              "      <td>25</td>\n",
              "      <td>1</td>\n",
              "      <td>1.0</td>\n",
              "      <td>0.75</td>\n",
              "      <td>36.187559</td>\n",
              "    </tr>\n",
              "  </tbody>\n",
              "</table>\n",
              "</div>"
            ],
            "text/plain": [
              "                   name mfr type  calories  ...  shelf  weight  cups     rating\n",
              "72              Triples   G    C       110  ...      3     1.0  0.75  39.106174\n",
              "73                 Trix   G    C       110  ...      2     1.0  1.00  27.753301\n",
              "74           Wheat Chex   R    C       100  ...      1     1.0  0.67  49.787445\n",
              "75             Wheaties   G    C       100  ...      1     1.0  1.00  51.592193\n",
              "76  Wheaties Honey Gold   G    C       110  ...      1     1.0  0.75  36.187559\n",
              "\n",
              "[5 rows x 16 columns]"
            ]
          },
          "metadata": {
            "tags": []
          },
          "execution_count": 5
        }
      ]
    },
    {
      "cell_type": "code",
      "metadata": {
        "id": "ywVklSJKVQ42",
        "outputId": "cdc611db-e5b0-4982-eb6b-7cdcdaa6eb5c",
        "colab": {
          "base_uri": "https://localhost:8080/"
        }
      },
      "source": [
        "df.shape"
      ],
      "execution_count": 6,
      "outputs": [
        {
          "output_type": "execute_result",
          "data": {
            "text/plain": [
              "(77, 16)"
            ]
          },
          "metadata": {
            "tags": []
          },
          "execution_count": 6
        }
      ]
    },
    {
      "cell_type": "code",
      "metadata": {
        "id": "rmFe-TufVnY1"
      },
      "source": [
        "data=df.drop(['name'], axis=1)"
      ],
      "execution_count": 7,
      "outputs": []
    },
    {
      "cell_type": "code",
      "metadata": {
        "id": "FlSRtT5VWr9U",
        "outputId": "36bac108-66a3-4073-cce5-a24f729e7049",
        "colab": {
          "base_uri": "https://localhost:8080/"
        }
      },
      "source": [
        "print(set(data['shelf']))"
      ],
      "execution_count": 8,
      "outputs": [
        {
          "output_type": "stream",
          "text": [
            "{1, 2, 3}\n"
          ],
          "name": "stdout"
        }
      ]
    },
    {
      "cell_type": "code",
      "metadata": {
        "id": "fob3Kp3VXBjz"
      },
      "source": [
        "from sklearn.preprocessing import LabelEncoder\n",
        "lc = LabelEncoder(); "
      ],
      "execution_count": 9,
      "outputs": []
    },
    {
      "cell_type": "code",
      "metadata": {
        "id": "ua0tNolKXwMK"
      },
      "source": [
        "x=data.iloc[:,:-1].values #all data except rating col.\n",
        "y=data.iloc[:,-1].values #only rating col #data to numpy array"
      ],
      "execution_count": 10,
      "outputs": []
    },
    {
      "cell_type": "code",
      "metadata": {
        "id": "PWtgKu1UYEki",
        "outputId": "3a7a6111-6751-46b1-f6fd-c939ff05c36d",
        "colab": {
          "base_uri": "https://localhost:8080/"
        }
      },
      "source": [
        "data.isnull().sum() #count missing values"
      ],
      "execution_count": 11,
      "outputs": [
        {
          "output_type": "execute_result",
          "data": {
            "text/plain": [
              "mfr         0\n",
              "type        0\n",
              "calories    0\n",
              "protein     0\n",
              "fat         0\n",
              "sodium      0\n",
              "fiber       0\n",
              "carbo       0\n",
              "sugars      0\n",
              "potass      0\n",
              "vitamins    0\n",
              "shelf       0\n",
              "weight      0\n",
              "cups        0\n",
              "rating      0\n",
              "dtype: int64"
            ]
          },
          "metadata": {
            "tags": []
          },
          "execution_count": 11
        }
      ]
    },
    {
      "cell_type": "code",
      "metadata": {
        "id": "Qff0KCQWYhG8"
      },
      "source": [
        "for i in range(0,2):\n",
        "  x[:,i]=lc.fit_transform(x[:,i])\n",
        "  #label encoer encodes non=numerical data"
      ],
      "execution_count": 12,
      "outputs": []
    },
    {
      "cell_type": "code",
      "metadata": {
        "id": "DOz6zaOHZkcE"
      },
      "source": [
        "from scipy.stats import pearsonr"
      ],
      "execution_count": 13,
      "outputs": []
    },
    {
      "cell_type": "code",
      "metadata": {
        "id": "4Neve8EcZ5fh",
        "outputId": "447e4c77-5e68-47ff-bd6c-06ca816d117a",
        "colab": {
          "base_uri": "https://localhost:8080/"
        }
      },
      "source": [
        "correlation=[]\n",
        "for i in range(len(data.columns)-1):\n",
        "  col_x=x[:,i]\n",
        "  col_y=y\n",
        "  corr,_=pearsonr(col_x, col_y)\n",
        "  correlation.append(corr)\n",
        "  print(corr)"
      ],
      "execution_count": 14,
      "outputs": [
        {
          "output_type": "stream",
          "text": [
            "0.1409424083755429\n",
            "0.20302370742156076\n",
            "-0.6893760311652588\n",
            "0.47061846454925926\n",
            "-0.40928366014780976\n",
            "-0.40129520449484846\n",
            "0.5841604199515842\n",
            "0.0520546612337646\n",
            "-0.7596746584301075\n",
            "0.38016536869410067\n",
            "-0.24054361076908157\n",
            "0.025158815679116875\n",
            "-0.2981239849779472\n",
            "-0.20316006300817877\n"
          ],
          "name": "stdout"
        }
      ]
    },
    {
      "cell_type": "code",
      "metadata": {
        "id": "bpm73vl5a-qM",
        "outputId": "2b026167-6312-43d9-d8e0-0cd0e9661e64",
        "colab": {
          "base_uri": "https://localhost:8080/",
          "height": 295
        }
      },
      "source": [
        "import matplotlib.pyplot as plt\n",
        "plt.title('Correlation Plotting')\n",
        "plt.bar([i for i in range(14)], correlation, color='orange')\n",
        "plt.xlabel('Indices')\n",
        "plt.ylabel('Correlation coefficient')\n",
        "plt.grid()"
      ],
      "execution_count": 15,
      "outputs": [
        {
          "output_type": "display_data",
          "data": {
            "image/png": "[encoded data removed]",
            "text/plain": [
              "<Figure size 432x288 with 1 Axes>"
            ]
          },
          "metadata": {
            "tags": [],
            "needs_background": "light"
          }
        }
      ]
    },
    {
      "cell_type": "code",
      "metadata": {
        "id": "JaEPwuG5b7ZT",
        "outputId": "47caea0d-f686-483c-97f5-56d1db9ac860",
        "colab": {
          "base_uri": "https://localhost:8080/"
        }
      },
      "source": [
        "#Seggregating columns index to drop\n",
        "index=[]\n",
        "for i in range(14):\n",
        "  if correlation[i] <= 0.29 and correlation[i] >= -0.29:\n",
        "    index.append(i)\n",
        "index "
      ],
      "execution_count": 16,
      "outputs": [
        {
          "output_type": "execute_result",
          "data": {
            "text/plain": [
              "[0, 1, 7, 10, 11, 13]"
            ]
          },
          "metadata": {
            "tags": []
          },
          "execution_count": 16
        }
      ]
    },
    {
      "cell_type": "code",
      "metadata": {
        "id": "xsBbA3jpciOs",
        "outputId": "7a14b3c4-46b7-4ea9-92ea-b64bd4206d75",
        "colab": {
          "base_uri": "https://localhost:8080/"
        }
      },
      "source": [
        "#Segregating columns to drop later\n",
        "drop_col=[]\n",
        "for i in index:\n",
        "  print(data.columns[i])\n",
        "  drop_col.append(data.columns[i])\n",
        "drop_col"
      ],
      "execution_count": 26,
      "outputs": [
        {
          "output_type": "stream",
          "text": [
            "mfr\n",
            "type\n",
            "carbo\n",
            "vitamins\n",
            "shelf\n",
            "cups\n"
          ],
          "name": "stdout"
        },
        {
          "output_type": "execute_result",
          "data": {
            "text/plain": [
              "['mfr', 'type', 'carbo', 'vitamins', 'shelf', 'cups']"
            ]
          },
          "metadata": {
            "tags": []
          },
          "execution_count": 26
        }
      ]
    },
    {
      "cell_type": "code",
      "metadata": {
        "id": "EtZK3SgIdF9K",
        "outputId": "44f4c312-be7c-4273-cd19-7440dc3f971f",
        "colab": {
          "base_uri": "https://localhost:8080/",
          "height": 195
        }
      },
      "source": [
        "data = data.drop(drop_col,axis=1)\n",
        "data.head()"
      ],
      "execution_count": 27,
      "outputs": [
        {
          "output_type": "execute_result",
          "data": {
            "text/html": [
              "<div>\n",
              "<style scoped>\n",
              "    .dataframe tbody tr th:only-of-type {\n",
              "        vertical-align: middle;\n",
              "    }\n",
              "\n",
              "    .dataframe tbody tr th {\n",
              "        vertical-align: top;\n",
              "    }\n",
              "\n",
              "    .dataframe thead th {\n",
              "        text-align: right;\n",
              "    }\n",
              "</style>\n",
              "<table border=\"1\" class=\"dataframe\">\n",
              "  <thead>\n",
              "    <tr style=\"text-align: right;\">\n",
              "      <th></th>\n",
              "      <th>calories</th>\n",
              "      <th>protein</th>\n",
              "      <th>fat</th>\n",
              "      <th>sodium</th>\n",
              "      <th>fiber</th>\n",
              "      <th>sugars</th>\n",
              "      <th>potass</th>\n",
              "      <th>weight</th>\n",
              "      <th>rating</th>\n",
              "    </tr>\n",
              "  </thead>\n",
              "  <tbody>\n",
              "    <tr>\n",
              "      <th>0</th>\n",
              "      <td>70</td>\n",
              "      <td>4</td>\n",
              "      <td>1</td>\n",
              "      <td>130</td>\n",
              "      <td>10.0</td>\n",
              "      <td>6</td>\n",
              "      <td>280</td>\n",
              "      <td>1.0</td>\n",
              "      <td>68.402973</td>\n",
              "    </tr>\n",
              "    <tr>\n",
              "      <th>1</th>\n",
              "      <td>120</td>\n",
              "      <td>3</td>\n",
              "      <td>5</td>\n",
              "      <td>15</td>\n",
              "      <td>2.0</td>\n",
              "      <td>8</td>\n",
              "      <td>135</td>\n",
              "      <td>1.0</td>\n",
              "      <td>33.983679</td>\n",
              "    </tr>\n",
              "    <tr>\n",
              "      <th>2</th>\n",
              "      <td>70</td>\n",
              "      <td>4</td>\n",
              "      <td>1</td>\n",
              "      <td>260</td>\n",
              "      <td>9.0</td>\n",
              "      <td>5</td>\n",
              "      <td>320</td>\n",
              "      <td>1.0</td>\n",
              "      <td>59.425505</td>\n",
              "    </tr>\n",
              "    <tr>\n",
              "      <th>3</th>\n",
              "      <td>50</td>\n",
              "      <td>4</td>\n",
              "      <td>0</td>\n",
              "      <td>140</td>\n",
              "      <td>14.0</td>\n",
              "      <td>0</td>\n",
              "      <td>330</td>\n",
              "      <td>1.0</td>\n",
              "      <td>93.704912</td>\n",
              "    </tr>\n",
              "    <tr>\n",
              "      <th>4</th>\n",
              "      <td>110</td>\n",
              "      <td>2</td>\n",
              "      <td>2</td>\n",
              "      <td>200</td>\n",
              "      <td>1.0</td>\n",
              "      <td>8</td>\n",
              "      <td>-1</td>\n",
              "      <td>1.0</td>\n",
              "      <td>34.384843</td>\n",
              "    </tr>\n",
              "  </tbody>\n",
              "</table>\n",
              "</div>"
            ],
            "text/plain": [
              "   calories  protein  fat  sodium  fiber  sugars  potass  weight     rating\n",
              "0        70        4    1     130   10.0       6     280     1.0  68.402973\n",
              "1       120        3    5      15    2.0       8     135     1.0  33.983679\n",
              "2        70        4    1     260    9.0       5     320     1.0  59.425505\n",
              "3        50        4    0     140   14.0       0     330     1.0  93.704912\n",
              "4       110        2    2     200    1.0       8      -1     1.0  34.384843"
            ]
          },
          "metadata": {
            "tags": []
          },
          "execution_count": 27
        }
      ]
    },
    {
      "cell_type": "code",
      "metadata": {
        "id": "WryrL3X-dRVz",
        "outputId": "a6f4fbb8-9921-4ce3-aef3-053fca191552",
        "colab": {
          "base_uri": "https://localhost:8080/"
        }
      },
      "source": [
        "x= data.iloc[:,:-1].values\n",
        "x"
      ],
      "execution_count": 29,
      "outputs": [
        {
          "output_type": "execute_result",
          "data": {
            "text/plain": [
              "array([[ 70.  ,   4.  ,   1.  , 130.  ,  10.  ,   6.  , 280.  ,   1.  ],\n",
              "       [120.  ,   3.  ,   5.  ,  15.  ,   2.  ,   8.  , 135.  ,   1.  ],\n",
              "       [ 70.  ,   4.  ,   1.  , 260.  ,   9.  ,   5.  , 320.  ,   1.  ],\n",
              "       [ 50.  ,   4.  ,   0.  , 140.  ,  14.  ,   0.  , 330.  ,   1.  ],\n",
              "       [110.  ,   2.  ,   2.  , 200.  ,   1.  ,   8.  ,  -1.  ,   1.  ],\n",
              "       [110.  ,   2.  ,   2.  , 180.  ,   1.5 ,  10.  ,  70.  ,   1.  ],\n",
              "       [110.  ,   2.  ,   0.  , 125.  ,   1.  ,  14.  ,  30.  ,   1.  ],\n",
              "       [130.  ,   3.  ,   2.  , 210.  ,   2.  ,   8.  , 100.  ,   1.33],\n",
              "       [ 90.  ,   2.  ,   1.  , 200.  ,   4.  ,   6.  , 125.  ,   1.  ],\n",
              "       [ 90.  ,   3.  ,   0.  , 210.  ,   5.  ,   5.  , 190.  ,   1.  ],\n",
              "       [120.  ,   1.  ,   2.  , 220.  ,   0.  ,  12.  ,  35.  ,   1.  ],\n",
              "       [110.  ,   6.  ,   2.  , 290.  ,   2.  ,   1.  , 105.  ,   1.  ],\n",
              "       [120.  ,   1.  ,   3.  , 210.  ,   0.  ,   9.  ,  45.  ,   1.  ],\n",
              "       [110.  ,   3.  ,   2.  , 140.  ,   2.  ,   7.  , 105.  ,   1.  ],\n",
              "       [110.  ,   1.  ,   1.  , 180.  ,   0.  ,  13.  ,  55.  ,   1.  ],\n",
              "       [110.  ,   2.  ,   0.  , 280.  ,   0.  ,   3.  ,  25.  ,   1.  ],\n",
              "       [100.  ,   2.  ,   0.  , 290.  ,   1.  ,   2.  ,  35.  ,   1.  ],\n",
              "       [110.  ,   1.  ,   0.  ,  90.  ,   1.  ,  12.  ,  20.  ,   1.  ],\n",
              "       [110.  ,   1.  ,   1.  , 180.  ,   0.  ,  13.  ,  65.  ,   1.  ],\n",
              "       [110.  ,   3.  ,   3.  , 140.  ,   4.  ,   7.  , 160.  ,   1.  ],\n",
              "       [100.  ,   3.  ,   0.  ,  80.  ,   1.  ,   0.  ,  -1.  ,   1.  ],\n",
              "       [110.  ,   2.  ,   0.  , 220.  ,   1.  ,   3.  ,  30.  ,   1.  ],\n",
              "       [100.  ,   2.  ,   1.  , 140.  ,   2.  ,  10.  , 120.  ,   1.  ],\n",
              "       [100.  ,   2.  ,   0.  , 190.  ,   1.  ,   5.  ,  80.  ,   1.  ],\n",
              "       [110.  ,   2.  ,   1.  , 125.  ,   1.  ,  13.  ,  30.  ,   1.  ],\n",
              "       [110.  ,   1.  ,   0.  , 200.  ,   1.  ,  11.  ,  25.  ,   1.  ],\n",
              "       [100.  ,   3.  ,   0.  ,   0.  ,   3.  ,   7.  , 100.  ,   1.  ],\n",
              "       [120.  ,   3.  ,   2.  , 160.  ,   5.  ,  10.  , 200.  ,   1.25],\n",
              "       [120.  ,   3.  ,   0.  , 240.  ,   5.  ,  12.  , 190.  ,   1.33],\n",
              "       [110.  ,   1.  ,   1.  , 135.  ,   0.  ,  12.  ,  25.  ,   1.  ],\n",
              "       [100.  ,   2.  ,   0.  ,  45.  ,   0.  ,  15.  ,  40.  ,   1.  ],\n",
              "       [110.  ,   1.  ,   1.  , 280.  ,   0.  ,   9.  ,  45.  ,   1.  ],\n",
              "       [100.  ,   3.  ,   1.  , 140.  ,   3.  ,   5.  ,  85.  ,   1.  ],\n",
              "       [110.  ,   3.  ,   0.  , 170.  ,   3.  ,   3.  ,  90.  ,   1.  ],\n",
              "       [120.  ,   3.  ,   3.  ,  75.  ,   3.  ,   4.  , 100.  ,   1.  ],\n",
              "       [120.  ,   1.  ,   2.  , 220.  ,   1.  ,  11.  ,  45.  ,   1.  ],\n",
              "       [110.  ,   3.  ,   1.  , 250.  ,   1.5 ,  10.  ,  90.  ,   1.  ],\n",
              "       [110.  ,   1.  ,   0.  , 180.  ,   0.  ,  11.  ,  35.  ,   1.  ],\n",
              "       [110.  ,   2.  ,   1.  , 170.  ,   1.  ,   6.  ,  60.  ,   1.  ],\n",
              "       [140.  ,   3.  ,   1.  , 170.  ,   2.  ,   9.  ,  95.  ,   1.3 ],\n",
              "       [110.  ,   2.  ,   1.  , 260.  ,   0.  ,   3.  ,  40.  ,   1.  ],\n",
              "       [100.  ,   4.  ,   2.  , 150.  ,   2.  ,   6.  ,  95.  ,   1.  ],\n",
              "       [110.  ,   2.  ,   1.  , 180.  ,   0.  ,  12.  ,  55.  ,   1.  ],\n",
              "       [100.  ,   4.  ,   1.  ,   0.  ,   0.  ,   3.  ,  95.  ,   1.  ],\n",
              "       [150.  ,   4.  ,   3.  ,  95.  ,   3.  ,  11.  , 170.  ,   1.  ],\n",
              "       [150.  ,   4.  ,   3.  , 150.  ,   3.  ,  11.  , 170.  ,   1.  ],\n",
              "       [160.  ,   3.  ,   2.  , 150.  ,   3.  ,  13.  , 160.  ,   1.5 ],\n",
              "       [100.  ,   2.  ,   1.  , 220.  ,   2.  ,   6.  ,  90.  ,   1.  ],\n",
              "       [120.  ,   2.  ,   1.  , 190.  ,   0.  ,   9.  ,  40.  ,   1.  ],\n",
              "       [140.  ,   3.  ,   2.  , 220.  ,   3.  ,   7.  , 130.  ,   1.33],\n",
              "       [ 90.  ,   3.  ,   0.  , 170.  ,   3.  ,   2.  ,  90.  ,   1.  ],\n",
              "       [130.  ,   3.  ,   2.  , 170.  ,   1.5 ,  10.  , 120.  ,   1.25],\n",
              "       [120.  ,   3.  ,   1.  , 200.  ,   6.  ,  14.  , 260.  ,   1.33],\n",
              "       [100.  ,   3.  ,   0.  , 320.  ,   1.  ,   3.  ,  45.  ,   1.  ],\n",
              "       [ 50.  ,   1.  ,   0.  ,   0.  ,   0.  ,   0.  ,  15.  ,   0.5 ],\n",
              "       [ 50.  ,   2.  ,   0.  ,   0.  ,   1.  ,   0.  ,  50.  ,   0.5 ],\n",
              "       [100.  ,   4.  ,   1.  , 135.  ,   2.  ,   6.  , 110.  ,   1.  ],\n",
              "       [100.  ,   5.  ,   2.  ,   0.  ,   2.7 ,  -1.  , 110.  ,   1.  ],\n",
              "       [120.  ,   3.  ,   1.  , 210.  ,   5.  ,  12.  , 240.  ,   1.33],\n",
              "       [100.  ,   3.  ,   2.  , 140.  ,   2.5 ,   8.  , 140.  ,   1.  ],\n",
              "       [ 90.  ,   2.  ,   0.  ,   0.  ,   2.  ,   6.  , 110.  ,   1.  ],\n",
              "       [110.  ,   1.  ,   0.  , 240.  ,   0.  ,   2.  ,  30.  ,   1.  ],\n",
              "       [110.  ,   2.  ,   0.  , 290.  ,   0.  ,   3.  ,  35.  ,   1.  ],\n",
              "       [ 80.  ,   2.  ,   0.  ,   0.  ,   3.  ,   0.  ,  95.  ,   0.83],\n",
              "       [ 90.  ,   3.  ,   0.  ,   0.  ,   4.  ,   0.  , 140.  ,   1.  ],\n",
              "       [ 90.  ,   3.  ,   0.  ,   0.  ,   3.  ,   0.  , 120.  ,   1.  ],\n",
              "       [110.  ,   2.  ,   1.  ,  70.  ,   1.  ,  15.  ,  40.  ,   1.  ],\n",
              "       [110.  ,   6.  ,   0.  , 230.  ,   1.  ,   3.  ,  55.  ,   1.  ],\n",
              "       [ 90.  ,   2.  ,   0.  ,  15.  ,   3.  ,   5.  ,  90.  ,   1.  ],\n",
              "       [110.  ,   2.  ,   1.  , 200.  ,   0.  ,   3.  ,  35.  ,   1.  ],\n",
              "       [140.  ,   3.  ,   1.  , 190.  ,   4.  ,  14.  , 230.  ,   1.5 ],\n",
              "       [100.  ,   3.  ,   1.  , 200.  ,   3.  ,   3.  , 110.  ,   1.  ],\n",
              "       [110.  ,   2.  ,   1.  , 250.  ,   0.  ,   3.  ,  60.  ,   1.  ],\n",
              "       [110.  ,   1.  ,   1.  , 140.  ,   0.  ,  12.  ,  25.  ,   1.  ],\n",
              "       [100.  ,   3.  ,   1.  , 230.  ,   3.  ,   3.  , 115.  ,   1.  ],\n",
              "       [100.  ,   3.  ,   1.  , 200.  ,   3.  ,   3.  , 110.  ,   1.  ],\n",
              "       [110.  ,   2.  ,   1.  , 200.  ,   1.  ,   8.  ,  60.  ,   1.  ]])"
            ]
          },
          "metadata": {
            "tags": []
          },
          "execution_count": 29
        }
      ]
    },
    {
      "cell_type": "code",
      "metadata": {
        "id": "JMHfM_sIdsG5"
      },
      "source": [
        "#Train test splitting\n",
        "from sklearn.model_selection import train_test_split\n",
        "x_train,x_test,y_train,y_test=train_test_split(x,y,test_size=0.2)"
      ],
      "execution_count": 30,
      "outputs": []
    },
    {
      "cell_type": "code",
      "metadata": {
        "id": "SiNYs0n0eUfI",
        "outputId": "4c18ff7d-d879-40b5-a36e-b9469005900d",
        "colab": {
          "base_uri": "https://localhost:8080/"
        }
      },
      "source": [
        "#Fitting the data according to model\n",
        "from sklearn.linear_model import LinearRegression\n",
        "regressor = LinearRegression()\n",
        "regressor.fit(x_train, y_train)"
      ],
      "execution_count": 31,
      "outputs": [
        {
          "output_type": "execute_result",
          "data": {
            "text/plain": [
              "LinearRegression(copy_X=True, fit_intercept=True, n_jobs=None, normalize=False)"
            ]
          },
          "metadata": {
            "tags": []
          },
          "execution_count": 31
        }
      ]
    },
    {
      "cell_type": "code",
      "metadata": {
        "id": "LCb45471e9IO",
        "outputId": "251a2778-6300-41c5-d269-e030117c7d0c",
        "colab": {
          "base_uri": "https://localhost:8080/"
        }
      },
      "source": [
        "regressor.score(x_test, y_test) #no reglarization needed"
      ],
      "execution_count": 32,
      "outputs": [
        {
          "output_type": "execute_result",
          "data": {
            "text/plain": [
              "0.8952898200886954"
            ]
          },
          "metadata": {
            "tags": []
          },
          "execution_count": 32
        }
      ]
    },
    {
      "cell_type": "code",
      "metadata": {
        "id": "PMcbU5WFf-Ng"
      },
      "source": [
        "y_pred=regressor.predict(x_test)"
      ],
      "execution_count": 23,
      "outputs": []
    },
    {
      "cell_type": "code",
      "metadata": {
        "id": "sn59GrX2gNxn",
        "outputId": "3d77f57b-ba59-4d63-e4e3-135861814070",
        "colab": {
          "base_uri": "https://localhost:8080/"
        }
      },
      "source": [
        "y_pred"
      ],
      "execution_count": 24,
      "outputs": [
        {
          "output_type": "execute_result",
          "data": {
            "text/plain": [
              "array([53.31381286, 29.92428522, 59.36399345, 18.04285089, 33.9836792 ,\n",
              "       40.44877252, 53.13132324, 23.8040431 , 52.07689653, 49.78744507,\n",
              "       41.01549164, 30.31335103, 35.25244365, 37.03856172, 30.45084342,\n",
              "       36.1761962 ])"
            ]
          },
          "metadata": {
            "tags": []
          },
          "execution_count": 24
        }
      ]
    },
    {
      "cell_type": "code",
      "metadata": {
        "id": "2CMP-ORttmqR",
        "outputId": "959811e5-041d-4b4e-ecc6-0ad2702eb5f6",
        "colab": {
          "base_uri": "https://localhost:8080/"
        }
      },
      "source": [
        "#if regularization needed i.e if score is > 90-95\n",
        "from sklearn.linear_model import Ridge\n",
        "ridge_req_1 = Ridge(alpha=1, normalize=True)  #alpha=1\n",
        "ridge_req_1.fit(x_train, y_train)\n",
        "ridge_req_1.score(x_test, y_test)"
      ],
      "execution_count": 34,
      "outputs": [
        {
          "output_type": "execute_result",
          "data": {
            "text/plain": [
              "0.828318112475621"
            ]
          },
          "metadata": {
            "tags": []
          },
          "execution_count": 34
        }
      ]
    },
    {
      "cell_type": "code",
      "metadata": {
        "id": "1W8Gjcoo9dBE",
        "outputId": "cfabfce0-5a91-43e6-b0ac-3dd02674e936",
        "colab": {
          "base_uri": "https://localhost:8080/"
        }
      },
      "source": [
        "from sklearn.linear_model import Ridge\n",
        "ridge_req_05 = Ridge(alpha=0.5, normalize=True)  #alpha=0.5\n",
        "ridge_req_05.fit(x_train, y_train)\n",
        "ridge_req_05.score(x_test, y_test)"
      ],
      "execution_count": 35,
      "outputs": [
        {
          "output_type": "execute_result",
          "data": {
            "text/plain": [
              "0.8839210106644021"
            ]
          },
          "metadata": {
            "tags": []
          },
          "execution_count": 35
        }
      ]
    },
    {
      "cell_type": "code",
      "metadata": {
        "id": "pZ1GsxGu978Q",
        "outputId": "87f19a8a-b7eb-43a7-9621-59e6d3f40c9b",
        "colab": {
          "base_uri": "https://localhost:8080/"
        }
      },
      "source": [
        "from sklearn.linear_model import Ridge\n",
        "ridge_req_2 = Ridge(alpha=2, normalize=True)  #alpha=2\n",
        "ridge_req_2.fit(x_train, y_train)\n",
        "ridge_req_2.score(x_test, y_test)"
      ],
      "execution_count": 36,
      "outputs": [
        {
          "output_type": "execute_result",
          "data": {
            "text/plain": [
              "0.7025269280832254"
            ]
          },
          "metadata": {
            "tags": []
          },
          "execution_count": 36
        }
      ]
    },
    {
      "cell_type": "code",
      "metadata": {
        "id": "0bmdxEST-IL-"
      },
      "source": [
        ""
      ],
      "execution_count": null,
      "outputs": []
    }
  ]
}